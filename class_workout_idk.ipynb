{
 "cells": [
  {
   "cell_type": "code",
   "execution_count": 1,
   "id": "initial_id",
   "metadata": {
    "collapsed": true,
    "ExecuteTime": {
     "end_time": "2024-03-09T13:37:51.215291400Z",
     "start_time": "2024-03-09T13:37:46.234913600Z"
    }
   },
   "outputs": [
    {
     "name": "stdout",
     "output_type": "stream",
     "text": [
      "WARNING:tensorflow:From D:\\python\\SHORT_MEAL_AI\\venv\\Lib\\site-packages\\keras\\src\\losses.py:2976: The name tf.losses.sparse_softmax_cross_entropy is deprecated. Please use tf.compat.v1.losses.sparse_softmax_cross_entropy instead.\n"
     ]
    }
   ],
   "source": [
    "import numpy as np\n",
    "import tensorflow as tf\n",
    "import os\n",
    "import cv2\n",
    "import numpy as np"
   ]
  },
  {
   "cell_type": "code",
   "execution_count": 2,
   "outputs": [
    {
     "name": "stdout",
     "output_type": "stream",
     "text": [
      "D:\\python\\SHORT_MEAL_AI\\Workout\n"
     ]
    }
   ],
   "source": [
    "workout_path = os.path.join(os.getcwd(), 'Workout')\n",
    "print(workout_path)"
   ],
   "metadata": {
    "collapsed": false,
    "ExecuteTime": {
     "end_time": "2024-03-09T13:37:51.225340300Z",
     "start_time": "2024-03-09T13:37:51.216294700Z"
    }
   },
   "id": "33514a709054af06"
  },
  {
   "cell_type": "code",
   "execution_count": 3,
   "outputs": [],
   "source": [
    "files=os.listdir(workout_path)\n",
    "X=[]\n",
    "y=[]\n",
    "i=0\n",
    "for file_ in files:\n",
    "    for file in os.listdir(os.path.join(workout_path,file_)):\n",
    "         X.append(os.path.join(workout_path,file_,file))\n",
    "         y.append(file_)\n"
   ],
   "metadata": {
    "collapsed": false,
    "ExecuteTime": {
     "end_time": "2024-03-09T13:37:51.268542800Z",
     "start_time": "2024-03-09T13:37:51.221339600Z"
    }
   },
   "id": "de396ceefab402cf"
  },
  {
   "cell_type": "code",
   "execution_count": 4,
   "outputs": [],
   "source": [
    "def remove_duplicates(X, y):\n",
    "    unique_dict = dict(zip(X, y))\n",
    "    X_unique = list(unique_dict.keys())\n",
    "    y_unique = list(unique_dict.values())\n",
    "    return X_unique, y_unique"
   ],
   "metadata": {
    "collapsed": false,
    "ExecuteTime": {
     "end_time": "2024-03-09T13:37:52.536456800Z",
     "start_time": "2024-03-09T13:37:52.529871500Z"
    }
   },
   "id": "9af65d997351ad07"
  },
  {
   "cell_type": "code",
   "execution_count": 5,
   "outputs": [],
   "source": [
    "X, y = remove_duplicates(X, y)"
   ],
   "metadata": {
    "collapsed": false,
    "ExecuteTime": {
     "end_time": "2024-03-09T13:37:53.453534900Z",
     "start_time": "2024-03-09T13:37:53.446605600Z"
    }
   },
   "id": "42ca16b6c5f7397a"
  },
  {
   "cell_type": "code",
   "execution_count": 10,
   "outputs": [],
   "source": [
    "#Make a pandas dataframe\n",
    "import pandas as pd\n",
    "df = pd.DataFrame(list(zip(X, y)), columns =['X', 'y'])\n"
   ],
   "metadata": {
    "collapsed": false,
    "ExecuteTime": {
     "end_time": "2024-03-09T13:38:54.679317600Z",
     "start_time": "2024-03-09T13:38:54.631799400Z"
    }
   },
   "id": "1dbb86bdbfd6a802"
  },
  {
   "cell_type": "code",
   "execution_count": 11,
   "outputs": [
    {
     "data": {
      "text/plain": "                                                   X                    y\n0  D:\\python\\SHORT_MEAL_AI\\Workout\\barbell biceps...  barbell biceps curl\n1  D:\\python\\SHORT_MEAL_AI\\Workout\\barbell biceps...  barbell biceps curl\n2  D:\\python\\SHORT_MEAL_AI\\Workout\\barbell biceps...  barbell biceps curl\n3  D:\\python\\SHORT_MEAL_AI\\Workout\\barbell biceps...  barbell biceps curl\n4  D:\\python\\SHORT_MEAL_AI\\Workout\\barbell biceps...  barbell biceps curl",
      "text/html": "<div>\n<style scoped>\n    .dataframe tbody tr th:only-of-type {\n        vertical-align: middle;\n    }\n\n    .dataframe tbody tr th {\n        vertical-align: top;\n    }\n\n    .dataframe thead th {\n        text-align: right;\n    }\n</style>\n<table border=\"1\" class=\"dataframe\">\n  <thead>\n    <tr style=\"text-align: right;\">\n      <th></th>\n      <th>X</th>\n      <th>y</th>\n    </tr>\n  </thead>\n  <tbody>\n    <tr>\n      <th>0</th>\n      <td>D:\\python\\SHORT_MEAL_AI\\Workout\\barbell biceps...</td>\n      <td>barbell biceps curl</td>\n    </tr>\n    <tr>\n      <th>1</th>\n      <td>D:\\python\\SHORT_MEAL_AI\\Workout\\barbell biceps...</td>\n      <td>barbell biceps curl</td>\n    </tr>\n    <tr>\n      <th>2</th>\n      <td>D:\\python\\SHORT_MEAL_AI\\Workout\\barbell biceps...</td>\n      <td>barbell biceps curl</td>\n    </tr>\n    <tr>\n      <th>3</th>\n      <td>D:\\python\\SHORT_MEAL_AI\\Workout\\barbell biceps...</td>\n      <td>barbell biceps curl</td>\n    </tr>\n    <tr>\n      <th>4</th>\n      <td>D:\\python\\SHORT_MEAL_AI\\Workout\\barbell biceps...</td>\n      <td>barbell biceps curl</td>\n    </tr>\n  </tbody>\n</table>\n</div>"
     },
     "execution_count": 11,
     "metadata": {},
     "output_type": "execute_result"
    }
   ],
   "source": [
    "df.head()"
   ],
   "metadata": {
    "collapsed": false,
    "ExecuteTime": {
     "end_time": "2024-03-09T13:39:15.746654500Z",
     "start_time": "2024-03-09T13:39:15.708025600Z"
    }
   },
   "id": "5e8fa8ae94a24c06"
  },
  {
   "cell_type": "code",
   "execution_count": 37,
   "outputs": [],
   "source": [
    " \n",
    "\n",
    "def batch_generator(batch_size, gen_x): \n",
    "    batch_features = np.zeros((batch_size,256,256,3))\n",
    "    batch_labels = np.zeros((batch_size,61)) \n",
    "    while True:\n",
    "        for i in range(batch_size):\n",
    "            batch_features[i] , batch_labels[i] = next(gen_x)\n",
    "        yield batch_features, batch_labels\n",
    "\n"
   ],
   "metadata": {
    "collapsed": false,
    "ExecuteTime": {
     "end_time": "2024-03-09T12:13:09.555016700Z",
     "start_time": "2024-03-09T12:13:09.552010500Z"
    }
   },
   "id": "701952b0cd3f3a91"
  },
  {
   "cell_type": "code",
   "execution_count": 38,
   "outputs": [],
   "source": [
    "def generate_data(filelist, img_path, target):\n",
    "    while True:\n",
    "        for i,j in enumerate(filelist):\n",
    "            X_train = cv2.imread(img_path + j, cv2.IMREAD_COLOR )\n",
    "            X_train = cv2.resize(X_train, (256,256), interpolation= cv2.INTER_LINEAR )\n",
    "\n",
    "            y_train = target[i]\n",
    "\n",
    "            yield X_train, y_train\n"
   ],
   "metadata": {
    "collapsed": false,
    "ExecuteTime": {
     "end_time": "2024-03-09T12:13:10.396355500Z",
     "start_time": "2024-03-09T12:13:10.393839Z"
    }
   },
   "id": "6870c862fc202e1d"
  },
  {
   "cell_type": "code",
   "execution_count": null,
   "outputs": [],
   "source": [],
   "metadata": {
    "collapsed": false
   },
   "id": "309f51912e229cd"
  },
  {
   "cell_type": "code",
   "execution_count": null,
   "outputs": [],
   "source": [
    "X=np.array(X)\n",
    "y=np.array(y)"
   ],
   "metadata": {
    "collapsed": false
   },
   "id": "8c8a0e6befc490af"
  }
 ],
 "metadata": {
  "kernelspec": {
   "display_name": "Python 3",
   "language": "python",
   "name": "python3"
  },
  "language_info": {
   "codemirror_mode": {
    "name": "ipython",
    "version": 2
   },
   "file_extension": ".py",
   "mimetype": "text/x-python",
   "name": "python",
   "nbconvert_exporter": "python",
   "pygments_lexer": "ipython2",
   "version": "2.7.6"
  }
 },
 "nbformat": 4,
 "nbformat_minor": 5
}
